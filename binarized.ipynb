{
  "nbformat": 4,
  "nbformat_minor": 0,
  "metadata": {
    "colab": {
      "provenance": [],
      "authorship_tag": "ABX9TyOUoN0+3Dww3zPOJez5EG1l",
      "include_colab_link": true
    },
    "kernelspec": {
      "name": "python3",
      "display_name": "Python 3"
    },
    "language_info": {
      "name": "python"
    }
  },
  "cells": [
    {
      "cell_type": "markdown",
      "metadata": {
        "id": "view-in-github",
        "colab_type": "text"
      },
      "source": [
        "<a href=\"https://colab.research.google.com/github/CS22M105/face_detection_sir/blob/master/binarized.ipynb\" target=\"_parent\"><img src=\"https://colab.research.google.com/assets/colab-badge.svg\" alt=\"Open In Colab\"/></a>"
      ]
    },
    {
      "cell_type": "markdown",
      "source": [
        "## gaussian kernel, sobel kernel, threshold, non-maximal suppression explained."
      ],
      "metadata": {
        "id": "EecRU0zWw688"
      }
    },
    {
      "cell_type": "markdown",
      "source": [
        "Gaussian kernel\n",
        "\n",
        "Gaussian filter: This is a filter used to remove the noises in the image by blurring the image. There are many filters to blur an image but Gaussian filter is the most used one. This filter can be made of different sizes. The bigger the size of the figure the blurrier the image will be."
      ],
      "metadata": {
        "id": "j0xjXQzcu1MD"
      }
    },
    {
      "cell_type": "markdown",
      "source": [
        "Sobel Kernel\n",
        "\n",
        "Sobel filter: Now next step is to find the gradient of the image which is done using this filter. In this filter, there are two kernels used. One is a horizontal filter and second is a vertical filter. The edge can be detected by seeing if there are dark pixels or right pixels. The darker the colour is more is the possibility of a horizontal or vertical edge being there. Here we compute the gradient and then find the filtered image."
      ],
      "metadata": {
        "id": "svgcPZLIvB4L"
      }
    },
    {
      "cell_type": "markdown",
      "source": [
        "Non-Maximum Suppression\n",
        "\n",
        "Non-Maximum Suppression: This is a method of filtering the image on the basis of some thresholds. To do this we will first create a 45-degree angle filter. We will find the pixels for all the values to find a local maximum which is stored all the other pixels are removed or suppressed as we can say. Here is the implementation of finding the rotated filter and finding local maxima."
      ],
      "metadata": {
        "id": "IrVCAX0dvWtQ"
      }
    },
    {
      "cell_type": "markdown",
      "source": [
        "Threshold\n",
        "\n",
        "Thresholds:  We will apply three thresholds:  \n",
        "\n",
        "a) We have a low-high threshold in which the values greater than the threshold is set at 1 and others are set at 0.   \n",
        "\n",
        "b) Low-weak-High thresholds in which the values higher than the threshold are set as 1, the values lower than the threshold are set as 0 and the value equal to the threshold is set as 0.5.   \n",
        "\n",
        "c) Low-weak-High thresholds with hysteresis in which the values higher than the threshold are set as 1, the values lower than the threshold are set as 0 and the value equal to the threshold is assigned as high or low based on the hysteresis."
      ],
      "metadata": {
        "id": "gLcnJLSuvkPT"
      }
    },
    {
      "cell_type": "code",
      "execution_count": 1,
      "metadata": {
        "id": "J3tFd-asp-vg"
      },
      "outputs": [],
      "source": [
        "import torch\n",
        "import torch.nn as nn\n",
        "import numpy as np\n",
        "# from scipy.signal import gaussian\n",
        "import scipy\n",
        "\n",
        "\n",
        "class Net(nn.Module):\n",
        "    def __init__(self, threshold=10.0, use_cuda=False):\n",
        "        super(Net, self).__init__()\n",
        "\n",
        "        self.threshold = threshold\n",
        "        self.use_cuda = use_cuda\n",
        "\n",
        "        filter_size = 5\n",
        "        generated_filters = scipy.signal.windows.gaussian(filter_size,std=1.0).reshape([1,filter_size])\n",
        "\n",
        "        self.gaussian_filter_horizontal = nn.Conv2d(in_channels=1, out_channels=1, kernel_size=(1,filter_size), padding=(0,filter_size//2))\n",
        "        self.gaussian_filter_horizontal.weight.data.copy_(torch.from_numpy(generated_filters))\n",
        "        self.gaussian_filter_horizontal.bias.data.copy_(torch.from_numpy(np.array([0.0])))\n",
        "        self.gaussian_filter_vertical = nn.Conv2d(in_channels=1, out_channels=1, kernel_size=(filter_size,1), padding=(filter_size//2,0))\n",
        "        self.gaussian_filter_vertical.weight.data.copy_(torch.from_numpy(generated_filters.T))\n",
        "        self.gaussian_filter_vertical.bias.data.copy_(torch.from_numpy(np.array([0.0])))\n",
        "\n",
        "        sobel_filter = np.array([[1, 0, -1],\n",
        "                                 [2, 0, -2],\n",
        "                                 [1, 0, -1]])\n",
        "\n",
        "        self.sobel_filter_horizontal = nn.Conv2d(in_channels=1, out_channels=1, kernel_size=sobel_filter.shape, padding=sobel_filter.shape[0]//2)\n",
        "        self.sobel_filter_horizontal.weight.data.copy_(torch.from_numpy(sobel_filter))\n",
        "        self.sobel_filter_horizontal.bias.data.copy_(torch.from_numpy(np.array([0.0])))\n",
        "        self.sobel_filter_vertical = nn.Conv2d(in_channels=1, out_channels=1, kernel_size=sobel_filter.shape, padding=sobel_filter.shape[0]//2)\n",
        "        self.sobel_filter_vertical.weight.data.copy_(torch.from_numpy(sobel_filter.T))\n",
        "        self.sobel_filter_vertical.bias.data.copy_(torch.from_numpy(np.array([0.0])))\n",
        "\n",
        "        # filters were flipped manually\n",
        "        filter_0 = np.array([   [ 0, 0, 0],\n",
        "                                [ 0, 1, -1],\n",
        "                                [ 0, 0, 0]])\n",
        "\n",
        "        filter_45 = np.array([  [0, 0, 0],\n",
        "                                [ 0, 1, 0],\n",
        "                                [ 0, 0, -1]])\n",
        "\n",
        "        filter_90 = np.array([  [ 0, 0, 0],\n",
        "                                [ 0, 1, 0],\n",
        "                                [ 0,-1, 0]])\n",
        "\n",
        "        filter_135 = np.array([ [ 0, 0, 0],\n",
        "                                [ 0, 1, 0],\n",
        "                                [-1, 0, 0]])\n",
        "\n",
        "        filter_180 = np.array([ [ 0, 0, 0],\n",
        "                                [-1, 1, 0],\n",
        "                                [ 0, 0, 0]])\n",
        "\n",
        "        filter_225 = np.array([ [-1, 0, 0],\n",
        "                                [ 0, 1, 0],\n",
        "                                [ 0, 0, 0]])\n",
        "\n",
        "        filter_270 = np.array([ [ 0,-1, 0],\n",
        "                                [ 0, 1, 0],\n",
        "                                [ 0, 0, 0]])\n",
        "\n",
        "        filter_315 = np.array([ [ 0, 0, -1],\n",
        "                                [ 0, 1, 0],\n",
        "                                [ 0, 0, 0]])\n",
        "\n",
        "        all_filters = np.stack([filter_0, filter_45, filter_90, filter_135, filter_180, filter_225, filter_270, filter_315])\n",
        "\n",
        "        self.directional_filter = nn.Conv2d(in_channels=1, out_channels=8, kernel_size=filter_0.shape, padding=filter_0.shape[-1] // 2)\n",
        "        self.directional_filter.weight.data.copy_(torch.from_numpy(all_filters[:, None, ...]))\n",
        "        self.directional_filter.bias.data.copy_(torch.from_numpy(np.zeros(shape=(all_filters.shape[0],))))\n",
        "\n",
        "    def forward(self, img):\n",
        "        img_r = img[:,0:1]\n",
        "        img_g = img[:,1:2]\n",
        "        img_b = img[:,2:3]\n",
        "\n",
        "        blur_horizontal = self.gaussian_filter_horizontal(img_r)\n",
        "        blurred_img_r = self.gaussian_filter_vertical(blur_horizontal)\n",
        "        blur_horizontal = self.gaussian_filter_horizontal(img_g)\n",
        "        blurred_img_g = self.gaussian_filter_vertical(blur_horizontal)\n",
        "        blur_horizontal = self.gaussian_filter_horizontal(img_b)\n",
        "        blurred_img_b = self.gaussian_filter_vertical(blur_horizontal)\n",
        "\n",
        "        blurred_img = torch.stack([blurred_img_r,blurred_img_g,blurred_img_b],dim=1)\n",
        "        blurred_img = torch.stack([torch.squeeze(blurred_img)])\n",
        "\n",
        "        grad_x_r = self.sobel_filter_horizontal(blurred_img_r)\n",
        "        grad_y_r = self.sobel_filter_vertical(blurred_img_r)\n",
        "        grad_x_g = self.sobel_filter_horizontal(blurred_img_g)\n",
        "        grad_y_g = self.sobel_filter_vertical(blurred_img_g)\n",
        "        grad_x_b = self.sobel_filter_horizontal(blurred_img_b)\n",
        "        grad_y_b = self.sobel_filter_vertical(blurred_img_b)\n",
        "\n",
        "        # COMPUTE THICK EDGES\n",
        "\n",
        "        grad_mag = torch.sqrt(grad_x_r**2 + grad_y_r**2)\n",
        "        grad_mag += torch.sqrt(grad_x_g**2 + grad_y_g**2)\n",
        "        grad_mag += torch.sqrt(grad_x_b**2 + grad_y_b**2)\n",
        "        grad_orientation = (torch.atan2(grad_y_r+grad_y_g+grad_y_b, grad_x_r+grad_x_g+grad_x_b) * (180.0/3.14159))\n",
        "        grad_orientation += 180.0\n",
        "        grad_orientation =  torch.round( grad_orientation / 45.0 ) * 45.0\n",
        "\n",
        "        # THIN EDGES (NON-MAX SUPPRESSION)\n",
        "\n",
        "        all_filtered = self.directional_filter(grad_mag)\n",
        "\n",
        "        inidices_positive = (grad_orientation / 45) % 8\n",
        "        inidices_negative = ((grad_orientation / 45) + 4) % 8\n",
        "\n",
        "        height = inidices_positive.size()[2]\n",
        "        width = inidices_positive.size()[3]\n",
        "        pixel_count = height * width\n",
        "        pixel_range = torch.FloatTensor([range(pixel_count)])\n",
        "        if self.use_cuda:\n",
        "            pixel_range = torch.cuda.FloatTensor([range(pixel_count)])\n",
        "\n",
        "        indices = (inidices_positive.view(-1).data * pixel_count + pixel_range).squeeze()\n",
        "        channel_select_filtered_positive = all_filtered.view(-1)[indices.long()].view(1,height,width)\n",
        "\n",
        "        indices = (inidices_negative.view(-1).data * pixel_count + pixel_range).squeeze()\n",
        "        channel_select_filtered_negative = all_filtered.view(-1)[indices.long()].view(1,height,width)\n",
        "\n",
        "        channel_select_filtered = torch.stack([channel_select_filtered_positive,channel_select_filtered_negative])\n",
        "\n",
        "        is_max = channel_select_filtered.min(dim=0)[0] > 0.0\n",
        "        is_max = torch.unsqueeze(is_max, dim=0)\n",
        "\n",
        "        thin_edges = grad_mag.clone()\n",
        "        thin_edges[is_max==0] = 0.0\n",
        "\n",
        "        # THRESHOLD\n",
        "\n",
        "        thresholded = thin_edges.clone()\n",
        "        thresholded[thin_edges<self.threshold] = 0.0\n",
        "\n",
        "        early_threshold = grad_mag.clone()\n",
        "        early_threshold[grad_mag<self.threshold] = 0.0\n",
        "\n",
        "        assert grad_mag.size() == grad_orientation.size() == thin_edges.size() == thresholded.size() == early_threshold.size()\n",
        "\n",
        "        return blurred_img, grad_mag, grad_orientation, thin_edges, thresholded, early_threshold\n",
        "\n",
        "\n",
        "if __name__ == '__main__':\n",
        "    Net()\n"
      ]
    },
    {
      "cell_type": "code",
      "source": [
        "# from scipy.misc import imread, imsave # these are deprecated\n",
        "import scipy\n",
        "import six\n",
        "import torch\n",
        "from PIL import Image\n",
        "import imageio.v2\n",
        "from torch.autograd import Variable\n",
        "# from net_canny import Net\n",
        "\n",
        "\n",
        "def canny(raw_img, use_cuda=False):\n",
        "    img = torch.from_numpy(raw_img.transpose((2, 0, 1)))\n",
        "    batch = torch.stack([img]).float()\n",
        "\n",
        "    net = Net(threshold=3.0, use_cuda=use_cuda)\n",
        "    # if use_cuda:\n",
        "    #     net.cuda()\n",
        "    net.eval()\n",
        "\n",
        "    data = Variable(batch)\n",
        "    # if use_cuda:\n",
        "    #     data = Variable(batch).cuda()\n",
        "    Data = net(data)\n",
        "    try:\n",
        "        blurred_img, grad_mag, grad_orientation, thin_edges, thresholded, early_threshold = Data\n",
        "    except TypeError:\n",
        "        print(\"Cannot unpack non-iterable NoneType object\")\n",
        "\n",
        "    # Gradient image\n",
        "    # grad_image = (grad_mag.data.cpu().numpy()[0, 0] * 255).astype(np.uint8)\n",
        "    # imageio.v2.imsave('gradient_magnitude.png', grad_image)\n",
        "\n",
        "    # # early threshold\n",
        "    # early_th = (early_threshold.data.cpu().numpy()[0, 0] * 255).astype(np.uint8)\n",
        "    # imageio.v2.imsave('early_threshold.png', early_th)\n",
        "\n",
        "    # # thresholded image\n",
        "    # grayscale_edges = (thresholded.data.cpu().numpy()[0, 0] * 255).astype(np.uint8)  # Scale and convert to uint8\n",
        "    # imageio.v2.imsave('thin_edges.png', grayscale_edges)\n",
        "\n",
        "    # final image\n",
        "    final_image = ((thresholded.data.cpu().numpy()[0, 0] > 0) * 255).astype(np.uint8)\n",
        "    imageio.v2.imsave('BinaryKaliSir.jpg', final_image)\n",
        "\n",
        "\n",
        "if __name__ == '__main__':\n",
        "    img = imageio.v2.imread('kaliSir.jpg') / 255.0\n",
        "\n",
        "    # canny(img, use_cuda=False)\n",
        "    canny(img, use_cuda=False)"
      ],
      "metadata": {
        "id": "9p1O2uH_t45e"
      },
      "execution_count": 3,
      "outputs": []
    },
    {
      "cell_type": "code",
      "source": [],
      "metadata": {
        "id": "jKh1UBD8BpyI"
      },
      "execution_count": null,
      "outputs": []
    }
  ]
}